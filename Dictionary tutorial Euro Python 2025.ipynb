{
 "cells": [
  {
   "cell_type": "markdown",
   "id": "7f380a15-bd42-401e-b4a8-a139be8d3221",
   "metadata": {},
   "source": [
    "# Agenda\n",
    "\n",
    "1. What is a dictionary?\n",
    "2. Hash functions\n",
    "3. Creating a `HashTable` class\n",
    "4. Retrievals from it\n",
    "5. Assignments to it\n",
    "6. Improving the search\n",
    "7. Magic methods for making it more dict-like\n",
    "8. Iteration over our dict\n",
    "9. Modern Python dicts vs. this implementation"
   ]
  },
  {
   "cell_type": "markdown",
   "id": "a8d7cfc5-f85d-4e96-ad53-f179607b5c52",
   "metadata": {},
   "source": [
    "# What is a dict?\n",
    "\n",
    "We in the Python world love dicts. But they're in other languages, too:\n",
    "\n",
    "- Hashes\n",
    "- Hash tables\n",
    "- Hash maps\n",
    "- Maps\n",
    "- Key-value stores\n",
    "- Name-value stores\n",
    "\n",
    "the idea is that we have pairs of information that we're storing:\n",
    "\n",
    "- We have the \"key,\"  we get to determine what it is\n",
    "    - Keys are unique within a dict\n",
    "    - They have to be (sort of) immutable\n",
    "- We have values, which can be anything\n"
   ]
  },
  {
   "cell_type": "code",
   "execution_count": 1,
   "id": "725cc1c3-e05e-4631-8aff-8245d69ab585",
   "metadata": {},
   "outputs": [
    {
     "data": {
      "text/plain": [
       "{'a': 10, 'b': 20, 'c': 30}"
      ]
     },
     "execution_count": 1,
     "metadata": {},
     "output_type": "execute_result"
    }
   ],
   "source": [
    "d = {'a':10, 'b':20, 'c':30}\n",
    "d"
   ]
  },
  {
   "cell_type": "code",
   "execution_count": 2,
   "id": "0224293d-05a4-47ee-a078-305922606d37",
   "metadata": {},
   "outputs": [
    {
     "data": {
      "text/plain": [
       "3"
      ]
     },
     "execution_count": 2,
     "metadata": {},
     "output_type": "execute_result"
    }
   ],
   "source": [
    "len(d)"
   ]
  },
  {
   "cell_type": "code",
   "execution_count": 3,
   "id": "d412dc83-e235-4475-be4c-c9c9edf2b45d",
   "metadata": {},
   "outputs": [
    {
     "data": {
      "text/plain": [
       "dict"
      ]
     },
     "execution_count": 3,
     "metadata": {},
     "output_type": "execute_result"
    }
   ],
   "source": [
    "type(d)"
   ]
  },
  {
   "cell_type": "code",
   "execution_count": 4,
   "id": "1fb87de4-8771-4f0a-9612-41df8c2aa4b6",
   "metadata": {},
   "outputs": [
    {
     "data": {
      "text/plain": [
       "{'a': 999, 'b': 20, 'c': 30}"
      ]
     },
     "execution_count": 4,
     "metadata": {},
     "output_type": "execute_result"
    }
   ],
   "source": [
    "d['a'] = 999\n",
    "d"
   ]
  },
  {
   "cell_type": "code",
   "execution_count": 5,
   "id": "e3b8ce1b-f4f9-4b48-a1eb-ccf5ad327167",
   "metadata": {},
   "outputs": [
    {
     "ename": "KeyError",
     "evalue": "'x'",
     "output_type": "error",
     "traceback": [
      "\u001b[0;31m---------------------------------------------------------------------------\u001b[0m",
      "\u001b[0;31mKeyError\u001b[0m                                  Traceback (most recent call last)",
      "Cell \u001b[0;32mIn[5], line 1\u001b[0m\n\u001b[0;32m----> 1\u001b[0m \u001b[43md\u001b[49m\u001b[43m[\u001b[49m\u001b[38;5;124;43m'\u001b[39;49m\u001b[38;5;124;43mx\u001b[39;49m\u001b[38;5;124;43m'\u001b[39;49m\u001b[43m]\u001b[49m\n",
      "\u001b[0;31mKeyError\u001b[0m: 'x'"
     ]
    }
   ],
   "source": [
    "d['x']"
   ]
  },
  {
   "cell_type": "code",
   "execution_count": 6,
   "id": "f3aa88c6-6842-4c80-91a0-1b820712a49b",
   "metadata": {},
   "outputs": [
    {
     "data": {
      "text/plain": [
       "False"
      ]
     },
     "execution_count": 6,
     "metadata": {},
     "output_type": "execute_result"
    }
   ],
   "source": [
    "# search in a dict for a key\n",
    "'x' in d"
   ]
  },
  {
   "cell_type": "code",
   "execution_count": 7,
   "id": "1bddf04f-de13-485e-89b0-8e083a65c0ba",
   "metadata": {},
   "outputs": [
    {
     "data": {
      "text/plain": [
       "True"
      ]
     },
     "execution_count": 7,
     "metadata": {},
     "output_type": "execute_result"
    }
   ],
   "source": [
    "'a' in d"
   ]
  },
  {
   "cell_type": "code",
   "execution_count": 9,
   "id": "07d45b81-cd4c-4233-8b88-24a7b0ebd2a2",
   "metadata": {},
   "outputs": [
    {
     "ename": "KeyError",
     "evalue": "'a'",
     "output_type": "error",
     "traceback": [
      "\u001b[0;31m---------------------------------------------------------------------------\u001b[0m",
      "\u001b[0;31mKeyError\u001b[0m                                  Traceback (most recent call last)",
      "Cell \u001b[0;32mIn[9], line 4\u001b[0m\n\u001b[1;32m      1\u001b[0m \u001b[38;5;66;03m# how do we remove a key-value pair from our dict?\u001b[39;00m\n\u001b[1;32m      2\u001b[0m \u001b[38;5;66;03m# dict.pop\u001b[39;00m\n\u001b[0;32m----> 4\u001b[0m \u001b[43md\u001b[49m\u001b[38;5;241;43m.\u001b[39;49m\u001b[43mpop\u001b[49m\u001b[43m(\u001b[49m\u001b[38;5;124;43m'\u001b[39;49m\u001b[38;5;124;43ma\u001b[39;49m\u001b[38;5;124;43m'\u001b[39;49m\u001b[43m)\u001b[49m  \u001b[38;5;66;03m# removes the key-value pair, and returns the value we removed\u001b[39;00m\n",
      "\u001b[0;31mKeyError\u001b[0m: 'a'"
     ]
    }
   ],
   "source": [
    "# how do we remove a key-value pair from our dict?\n",
    "# dict.pop\n",
    "\n",
    "d.pop('a')  # removes the key-value pair, and returns the value we removed"
   ]
  },
  {
   "cell_type": "markdown",
   "id": "8cb0db06-7d4d-4ee2-95fe-9a7ff74276bc",
   "metadata": {},
   "source": [
    "# Rules associated with them\n",
    "\n",
    "- Keys will be unique. There is no way for a key to repeat itself in a dict\n",
    "- The keys must be *hashable* , which is sorta kinda the same as immutable.\n",
    "- Values can be anything at all."
   ]
  },
  {
   "cell_type": "code",
   "execution_count": 10,
   "id": "ba5616a8-267a-4873-8f95-293845342b8e",
   "metadata": {},
   "outputs": [],
   "source": [
    "name = 'Reuven'"
   ]
  },
  {
   "cell_type": "code",
   "execution_count": 11,
   "id": "4c3e445a-9df2-41bd-bd80-945a349f8d2e",
   "metadata": {},
   "outputs": [
    {
     "data": {
      "text/plain": [
       "'Reuven'"
      ]
     },
     "execution_count": 11,
     "metadata": {},
     "output_type": "execute_result"
    }
   ],
   "source": [
    "globals()['name']"
   ]
  },
  {
   "cell_type": "markdown",
   "id": "fb5511fc-488c-4584-a115-baf62cfcab16",
   "metadata": {},
   "source": [
    "# Hashable and hash functions\n",
    "\n",
    "If I want to search for an element in a list, how long will it take? It depends.\n",
    "\n",
    "Dicts are far, far faster than this. The reason is a hash function. The location used by Python to store the key-value pair is based on the key. We run a function, `hash`, on the key, and that gives us a memory location.\n",
    "\n",
    "If I say\n",
    "\n",
    "    d['a'] = 100\n",
    "\n",
    "Python computes `hash('a')`, and then stores ('a', 100) in that location."
   ]
  },
  {
   "cell_type": "code",
   "execution_count": 12,
   "id": "7d9c9cf5-7d99-453b-8004-98e28ece9ac8",
   "metadata": {},
   "outputs": [
    {
     "data": {
      "text/plain": [
       "-8342762356364650461"
      ]
     },
     "execution_count": 12,
     "metadata": {},
     "output_type": "execute_result"
    }
   ],
   "source": [
    "hash('a')"
   ]
  },
  {
   "cell_type": "code",
   "execution_count": 13,
   "id": "0bbbfb0c-baa5-4aca-b9ce-61a22901ed93",
   "metadata": {},
   "outputs": [
    {
     "data": {
      "text/plain": [
       "-2087163220244094577"
      ]
     },
     "execution_count": 13,
     "metadata": {},
     "output_type": "execute_result"
    }
   ],
   "source": [
    "hash('b')"
   ]
  },
  {
   "cell_type": "code",
   "execution_count": 14,
   "id": "bc17ff4a-e8ee-419f-aaec-4e5f4018ab05",
   "metadata": {},
   "outputs": [
    {
     "data": {
      "text/plain": [
       "3079803896062575534"
      ]
     },
     "execution_count": 14,
     "metadata": {},
     "output_type": "execute_result"
    }
   ],
   "source": [
    "hash('c')"
   ]
  },
  {
   "cell_type": "code",
   "execution_count": 15,
   "id": "b71aed41-66f9-4ece-b7dc-26b980ab5966",
   "metadata": {},
   "outputs": [
    {
     "data": {
      "text/plain": [
       "False"
      ]
     },
     "execution_count": 15,
     "metadata": {},
     "output_type": "execute_result"
    }
   ],
   "source": [
    "'a' in d"
   ]
  },
  {
   "cell_type": "code",
   "execution_count": 16,
   "id": "fb2d146c-6a53-4191-9fd2-97624d84d39b",
   "metadata": {},
   "outputs": [
    {
     "ename": "TypeError",
     "evalue": "unhashable type: 'list'",
     "output_type": "error",
     "traceback": [
      "\u001b[0;31m---------------------------------------------------------------------------\u001b[0m",
      "\u001b[0;31mTypeError\u001b[0m                                 Traceback (most recent call last)",
      "Cell \u001b[0;32mIn[16], line 4\u001b[0m\n\u001b[1;32m      1\u001b[0m \u001b[38;5;66;03m# why doesn't Python let me do this?\u001b[39;00m\n\u001b[1;32m      3\u001b[0m mylist \u001b[38;5;241m=\u001b[39m [\u001b[38;5;241m10\u001b[39m, \u001b[38;5;241m20\u001b[39m, \u001b[38;5;241m30\u001b[39m]\n\u001b[0;32m----> 4\u001b[0m \u001b[43md\u001b[49m\u001b[43m[\u001b[49m\u001b[43mmylist\u001b[49m\u001b[43m]\u001b[49m \u001b[38;5;241m=\u001b[39m \u001b[38;5;124m'\u001b[39m\u001b[38;5;124mhello\u001b[39m\u001b[38;5;124m'\u001b[39m\n",
      "\u001b[0;31mTypeError\u001b[0m: unhashable type: 'list'"
     ]
    }
   ],
   "source": [
    "# why doesn't Python let me do this?\n",
    "\n",
    "mylist = [10, 20, 30]\n",
    "d[mylist] = 'hello'"
   ]
  },
  {
   "cell_type": "markdown",
   "id": "c54cdff1-4e9d-4d0b-a83c-b759df2ea422",
   "metadata": {},
   "source": [
    "# Exercise: Write a hash function\n",
    "\n",
    "1. Do not use the builtin function `hash`. Call it `myhash`.\n",
    "2. It can be really simple!\n",
    "3. It should work with inputs of type `int`, `float`, `string`, and `tuple`.\n",
    "4. Given any of these inputs, the function should return an integer.\n",
    "5. Any other type can raise a `TypeError`.\n",
    "6. You can use `ord` (which gives the Unicode value for a character) as part of your calculation\n",
    "7. You should get different values for `hash('abc')` as `hash('cba')`.\n",
    "\n",
    "You can check the type of a value with `isinstance`, as in `isinstance(10, int)`"
   ]
  },
  {
   "cell_type": "code",
   "execution_count": 30,
   "id": "e05da584-7995-4bc0-ac3f-099a4d8d4ab9",
   "metadata": {},
   "outputs": [],
   "source": [
    "def myhash(key):\n",
    "    if isinstance(key, str):\n",
    "        total = 0\n",
    "        for index, one_character in enumerate(key, 1):\n",
    "            total += ord(one_character) * index\n",
    "        return total\n",
    "    elif isinstance(key, int):\n",
    "        return key\n",
    "    elif isinstance(key, float):\n",
    "        return int(key)\n",
    "    elif isinstance(key, tuple):\n",
    "        total = 0\n",
    "        for index, one_item in enumerate(key, 1):\n",
    "            total += myhash(one_item) * index\n",
    "        return total\n",
    "    else:\n",
    "        raise TypeError(f'Unhashable type: {type(key)}')"
   ]
  },
  {
   "cell_type": "code",
   "execution_count": 31,
   "id": "29a31a4c-ad3e-4246-8675-b07db6803792",
   "metadata": {},
   "outputs": [
    {
     "data": {
      "text/plain": [
       "97"
      ]
     },
     "execution_count": 31,
     "metadata": {},
     "output_type": "execute_result"
    }
   ],
   "source": [
    "myhash('a')"
   ]
  },
  {
   "cell_type": "code",
   "execution_count": 32,
   "id": "ed9e27a1-cc7f-457b-9eb8-103b7d14723b",
   "metadata": {},
   "outputs": [
    {
     "data": {
      "text/plain": [
       "98"
      ]
     },
     "execution_count": 32,
     "metadata": {},
     "output_type": "execute_result"
    }
   ],
   "source": [
    "myhash('b')"
   ]
  },
  {
   "cell_type": "code",
   "execution_count": 33,
   "id": "bdf92120-857c-4f44-b663-dba5e2d201e9",
   "metadata": {},
   "outputs": [
    {
     "data": {
      "text/plain": [
       "293"
      ]
     },
     "execution_count": 33,
     "metadata": {},
     "output_type": "execute_result"
    }
   ],
   "source": [
    "myhash('ab')"
   ]
  },
  {
   "cell_type": "code",
   "execution_count": 34,
   "id": "c95e4178-b21b-44df-a841-50a36ab9694c",
   "metadata": {},
   "outputs": [
    {
     "data": {
      "text/plain": [
       "292"
      ]
     },
     "execution_count": 34,
     "metadata": {},
     "output_type": "execute_result"
    }
   ],
   "source": [
    "myhash('ba')"
   ]
  },
  {
   "cell_type": "code",
   "execution_count": 35,
   "id": "f334f2c1-b9bd-45eb-9c6a-12218d50c1d9",
   "metadata": {},
   "outputs": [
    {
     "data": {
      "text/plain": [
       "10"
      ]
     },
     "execution_count": 35,
     "metadata": {},
     "output_type": "execute_result"
    }
   ],
   "source": [
    "myhash(10)"
   ]
  },
  {
   "cell_type": "code",
   "execution_count": 36,
   "id": "9b450c20-12cc-406f-8d34-47f6d9e21db9",
   "metadata": {},
   "outputs": [
    {
     "data": {
      "text/plain": [
       "123"
      ]
     },
     "execution_count": 36,
     "metadata": {},
     "output_type": "execute_result"
    }
   ],
   "source": [
    "myhash(123.456)"
   ]
  },
  {
   "cell_type": "code",
   "execution_count": 38,
   "id": "97e947b3-0c82-47b7-9a41-8c3a527cea26",
   "metadata": {},
   "outputs": [
    {
     "data": {
      "text/plain": [
       "140"
      ]
     },
     "execution_count": 38,
     "metadata": {},
     "output_type": "execute_result"
    }
   ],
   "source": [
    "myhash((10, 20, 30))"
   ]
  },
  {
   "cell_type": "code",
   "execution_count": 39,
   "id": "95a876dd-aeb3-4c0e-9ae9-93852f9e2eac",
   "metadata": {},
   "outputs": [
    {
     "data": {
      "text/plain": [
       "7579"
      ]
     },
     "execution_count": 39,
     "metadata": {},
     "output_type": "execute_result"
    }
   ],
   "source": [
    "myhash(('hello', 'goodbye'))"
   ]
  },
  {
   "cell_type": "markdown",
   "id": "6b9dad70-ec8f-42b8-af2f-0e5279e21544",
   "metadata": {},
   "source": [
    "# What's the connection between `myhash` and a dict?\n",
    "\n",
    "- When we assign a key-value pair to our dict, we will use `myhash` to know at what place to put it\n",
    "- Our dict will start with only 8 locations in which we can put key-value pairs. We'll take the output from `myhash` and use `% 8` on it in order to place the pair."
   ]
  },
  {
   "cell_type": "code",
   "execution_count": 41,
   "id": "cfb40a5a-ee50-47dc-9619-24ece1225bde",
   "metadata": {},
   "outputs": [
    {
     "data": {
      "text/plain": [
       "6"
      ]
     },
     "execution_count": 41,
     "metadata": {},
     "output_type": "execute_result"
    }
   ],
   "source": [
    "myhash('abcd') % 8   # remainder after integer division by 8"
   ]
  },
  {
   "cell_type": "markdown",
   "id": "b6386703-fa6d-4326-a7ba-6e0791cf8460",
   "metadata": {},
   "source": [
    "# Exercise: Create a `HashTable` class\n",
    "\n",
    "1. When you create a new instance of `HashTable`, you'll pass a list of 2-element tuples. The first element will be the key, and the second will be the value.\n",
    "2. Allocate a list of 8 `None` values in your instance.\n",
    "3. Iterate over each element in your input list of tuples, hashing the key and putting the key-value pair in the right place.\n",
    "4. This might end up with some data loss!\n",
    "\n",
    "Example:\n",
    "\n",
    "    ht = HashTable([('a',10), ('b',20), ('c',30)])\n",
    "    print(ht.data)  # we should see a list of 8 elements, all None except \n",
    "           # for our 3 pairs"
   ]
  },
  {
   "cell_type": "code",
   "execution_count": 44,
   "id": "ccde1596-77ef-425a-bb5a-ca29e007f7e9",
   "metadata": {},
   "outputs": [],
   "source": [
    "class HashTable:\n",
    "    def __init__(self, list_of_pairs):\n",
    "        self.data = [None] * 8\n",
    "\n",
    "        for key, value in list_of_pairs:\n",
    "            key_index = myhash(key) % 8\n",
    "            self.data[key_index] = (key, value)\n",
    "\n",
    "ht = HashTable([('a', 10), ('b', 20), ('c', 30)])            \n"
   ]
  },
  {
   "cell_type": "code",
   "execution_count": 45,
   "id": "e4c1ec11-f1da-4f14-9f73-1657c12b06a1",
   "metadata": {},
   "outputs": [
    {
     "data": {
      "text/plain": [
       "[None, ('a', 10), ('b', 20), ('c', 30), None, None, None, None]"
      ]
     },
     "execution_count": 45,
     "metadata": {},
     "output_type": "execute_result"
    }
   ],
   "source": [
    "ht.data"
   ]
  },
  {
   "cell_type": "code",
   "execution_count": 47,
   "id": "29eb23d1-0289-4d63-aaca-4b2c182b253d",
   "metadata": {},
   "outputs": [
    {
     "data": {
      "text/plain": [
       "[('h', 80),\n",
       " ('a', 10),\n",
       " ('b', 20),\n",
       " ('c', 30),\n",
       " ('d', 40),\n",
       " ('e', 50),\n",
       " ('f', 60),\n",
       " ('spite', 100)]"
      ]
     },
     "execution_count": 47,
     "metadata": {},
     "output_type": "execute_result"
    }
   ],
   "source": [
    "ht = HashTable([('a', 10), ('b', 20), ('c', 30),\n",
    "               ('d', 40), ('e', 50), ('f', 60),\n",
    "               ('g', 70), ('h', 80), ('spite', 100)])            \n",
    "ht.data\n"
   ]
  },
  {
   "cell_type": "code",
   "execution_count": 48,
   "id": "7c0474b7-9bc0-4970-aad8-e19316238bf3",
   "metadata": {},
   "outputs": [
    {
     "data": {
      "text/plain": [
       "[None, ('ef', 30), None, ('cd', 20), None, ('ij', 50), None, ('gh', 40)]"
      ]
     },
     "execution_count": 48,
     "metadata": {},
     "output_type": "execute_result"
    }
   ],
   "source": [
    "ht = HashTable([('ab', 10), ('cd', 20), ('ef', 30),\n",
    "               ('gh', 40), ('ij', 50)])            \n",
    "ht.data"
   ]
  },
  {
   "cell_type": "code",
   "execution_count": 50,
   "id": "941e8c75-b0da-43e0-a256-fdaebaad1998",
   "metadata": {},
   "outputs": [
    {
     "data": {
      "text/plain": [
       "5"
      ]
     },
     "execution_count": 50,
     "metadata": {},
     "output_type": "execute_result"
    }
   ],
   "source": [
    "myhash('ij') % 8"
   ]
  },
  {
   "cell_type": "code",
   "execution_count": 51,
   "id": "079b6de6-a44c-495e-ad98-437251bad1e5",
   "metadata": {},
   "outputs": [
    {
     "data": {
      "text/plain": [
       "('ij', 50)"
      ]
     },
     "execution_count": 51,
     "metadata": {},
     "output_type": "execute_result"
    }
   ],
   "source": [
    "ht.data[5]"
   ]
  },
  {
   "cell_type": "markdown",
   "id": "31438d37-9529-40d9-acaf-8531ec28d579",
   "metadata": {},
   "source": [
    "# Use `[]` to retrieve... or to set\n",
    "\n",
    "You might have noticed that we use `[]` to retrieve from strings, lists, and tuples, and dicts! We use `[]` to assign to both lists and dicts.\n",
    "\n",
    "This is thanks to two magic methods.  All of the magic methods start with and end with `__` (double underscore), so they're also known as \"dunder methods.\"\n",
    "\n",
    "- If we say `a[b]`, then we're really invoking `a.__getitem__(b)`\n",
    "- If we say `a[b] = c`, then we're effectively invoking `a.__setitem__(b, c)`\n",
    "\n",
    "If we want to allow people to retrieve from our dict, then we have to implement `__getitem__`. And if we want to allow people to assign to our dict, then we have to implement `__setitem__`."
   ]
  },
  {
   "cell_type": "markdown",
   "id": "729b744f-fcdf-4f43-bdd0-ee76e6438da2",
   "metadata": {},
   "source": [
    "# Exercise: Magic methods\n",
    "\n",
    "1. Implement `__repr__`, which returns a string based on our hash table. It should show all of the key-value pairs.\n",
    "2. Implement `__getitem__`, which will either return the value for that key or raise `KeyError`.\n",
    "3. Implement `__setitem__`, which will step on any previous key-value pair in that location, with the same hash value.\n",
    "\n",
    "Again: We are ignoring collisions! If two keys have the same hash value, the last one wins."
   ]
  },
  {
   "cell_type": "code",
   "execution_count": 86,
   "id": "a4452448-b0bc-40d6-b9cc-cc59aad03e93",
   "metadata": {},
   "outputs": [],
   "source": [
    "class HashTable:\n",
    "    def __init__(self, list_of_pairs):\n",
    "        self.data = [None] * 8\n",
    "\n",
    "        for key, value in list_of_pairs:\n",
    "            key_index = self.key_location(key)\n",
    "            self.data[key_index] = (key, value)\n",
    "\n",
    "    def key_location(self, key):\n",
    "        return myhash(key) % len(self.data)\n",
    "\n",
    "    def __repr__(self):\n",
    "        return str(f'HashTable: {self.data}')\n",
    "\n",
    "    def __getitem__(self, key):\n",
    "        key_index = self.key_location(key)\n",
    "        pair = self.data[key_index]\n",
    "        if pair[0] == key:\n",
    "            return self.data[key_index][1]\n",
    "        else:\n",
    "            raise KeyError(f'{key} is not in our dict')\n",
    "\n",
    "    def __setitem__(self, key, value):\n",
    "        key_index = self.key_location(key)\n",
    "        self.data[key_index] = (key, value)\n",
    "\n",
    "ht = HashTable([('a', 10), ('b', 20), ('c', 30)])            "
   ]
  },
  {
   "cell_type": "code",
   "execution_count": 87,
   "id": "b43b15a6-2939-4841-bfd3-24e82248e189",
   "metadata": {},
   "outputs": [
    {
     "data": {
      "text/plain": [
       "HashTable: [None, ('a', 10), ('b', 20), ('c', 30), None, None, None, None]"
      ]
     },
     "execution_count": 87,
     "metadata": {},
     "output_type": "execute_result"
    }
   ],
   "source": [
    "ht"
   ]
  },
  {
   "cell_type": "code",
   "execution_count": 88,
   "id": "2d388b7a-791e-4d52-938d-11774c2adc2e",
   "metadata": {},
   "outputs": [
    {
     "ename": "KeyError",
     "evalue": "'i is not in our dict'",
     "output_type": "error",
     "traceback": [
      "\u001b[0;31m---------------------------------------------------------------------------\u001b[0m",
      "\u001b[0;31mKeyError\u001b[0m                                  Traceback (most recent call last)",
      "Cell \u001b[0;32mIn[88], line 1\u001b[0m\n\u001b[0;32m----> 1\u001b[0m \u001b[43mht\u001b[49m\u001b[43m[\u001b[49m\u001b[38;5;124;43m'\u001b[39;49m\u001b[38;5;124;43mi\u001b[39;49m\u001b[38;5;124;43m'\u001b[39;49m\u001b[43m]\u001b[49m\n",
      "Cell \u001b[0;32mIn[86], line 21\u001b[0m, in \u001b[0;36mHashTable.__getitem__\u001b[0;34m(self, key)\u001b[0m\n\u001b[1;32m     19\u001b[0m     \u001b[38;5;28;01mreturn\u001b[39;00m \u001b[38;5;28mself\u001b[39m\u001b[38;5;241m.\u001b[39mdata[key_index][\u001b[38;5;241m1\u001b[39m]\n\u001b[1;32m     20\u001b[0m \u001b[38;5;28;01melse\u001b[39;00m:\n\u001b[0;32m---> 21\u001b[0m     \u001b[38;5;28;01mraise\u001b[39;00m \u001b[38;5;167;01mKeyError\u001b[39;00m(\u001b[38;5;124mf\u001b[39m\u001b[38;5;124m'\u001b[39m\u001b[38;5;132;01m{\u001b[39;00mkey\u001b[38;5;132;01m}\u001b[39;00m\u001b[38;5;124m is not in our dict\u001b[39m\u001b[38;5;124m'\u001b[39m)\n",
      "\u001b[0;31mKeyError\u001b[0m: 'i is not in our dict'"
     ]
    }
   ],
   "source": [
    "ht['i']"
   ]
  },
  {
   "cell_type": "code",
   "execution_count": 89,
   "id": "640489e0-c548-4888-a7fd-fc6abe60713c",
   "metadata": {},
   "outputs": [
    {
     "data": {
      "text/plain": [
       "1"
      ]
     },
     "execution_count": 89,
     "metadata": {},
     "output_type": "execute_result"
    }
   ],
   "source": [
    "myhash('i') % 8"
   ]
  },
  {
   "cell_type": "code",
   "execution_count": 90,
   "id": "1c67f80b-749e-4db1-8e58-47742afe4137",
   "metadata": {},
   "outputs": [
    {
     "data": {
      "text/plain": [
       "1"
      ]
     },
     "execution_count": 90,
     "metadata": {},
     "output_type": "execute_result"
    }
   ],
   "source": [
    "myhash('a') % 8"
   ]
  },
  {
   "cell_type": "code",
   "execution_count": 91,
   "id": "790453b2-9829-4adb-ac81-f4bee1b4f2bd",
   "metadata": {},
   "outputs": [
    {
     "data": {
      "text/plain": [
       "10"
      ]
     },
     "execution_count": 91,
     "metadata": {},
     "output_type": "execute_result"
    }
   ],
   "source": [
    "ht['a']"
   ]
  },
  {
   "cell_type": "code",
   "execution_count": 92,
   "id": "3f65fa20-4268-48fc-806e-a0c8f2a8763a",
   "metadata": {},
   "outputs": [
    {
     "data": {
      "text/plain": [
       "HashTable: [None, ('a', 10), ('ghij', 789), ('c', 30), None, None, ('abcd', 123), None]"
      ]
     },
     "execution_count": 92,
     "metadata": {},
     "output_type": "execute_result"
    }
   ],
   "source": [
    "ht['abcd'] = 123\n",
    "ht['cdef'] = 456\n",
    "ht['ghij'] = 789\n",
    "\n",
    "ht"
   ]
  },
  {
   "cell_type": "code",
   "execution_count": 93,
   "id": "ff9ec097-7c0b-4a45-acf1-ebd61ffcd7d8",
   "metadata": {},
   "outputs": [
    {
     "data": {
      "text/plain": [
       "2"
      ]
     },
     "execution_count": 93,
     "metadata": {},
     "output_type": "execute_result"
    }
   ],
   "source": [
    "ht.key_location('cdef')"
   ]
  },
  {
   "cell_type": "markdown",
   "id": "40604fa1-9d71-43b6-83e2-efe3365a26b8",
   "metadata": {},
   "source": [
    "# Two big things we still have to do\n",
    "\n",
    "1. Avoid collisions\n",
    "2. Expand our dict as it growso"
   ]
  },
  {
   "cell_type": "markdown",
   "id": "4cce527c-1466-496b-af99-656f1750c3f0",
   "metadata": {},
   "source": [
    "# Avoiding collisions\n",
    "\n",
    "The easiest way to do this is to check -- when we are going to assign a key-value pair to a location, we check to see\n",
    "\n",
    "1. it's empty, with `None`, in which case we can assign to it\n",
    "2. The key is the same as our current one, in which case we can also assign to it\n",
    "3. The key exists and is different... in which case we go to the next location and try again"
   ]
  },
  {
   "cell_type": "markdown",
   "id": "7dc25bcd-b88f-4104-9fcd-330d43407d5e",
   "metadata": {},
   "source": [
    "# Exercise: Avoid collisions\n",
    "\n",
    "1. Modify `key_location` and `__setitem__` such that when you set:\n",
    "    - If the current location contains `None`, set there as before\n",
    "    - If the current location contains our key, set there as before\n",
    "    - If the current location contains a tuple with another key, add 1 to the index and try again\n",
    "    - Don't forget to wrap around if you're at the end of the list"
   ]
  },
  {
   "cell_type": "code",
   "execution_count": 116,
   "id": "c54da3cc-83b0-4ab8-8c2e-083c1e56b118",
   "metadata": {},
   "outputs": [],
   "source": [
    "class HashTable:\n",
    "    def __init__(self, list_of_pairs):\n",
    "        self.data = [None] * 8\n",
    "\n",
    "        for key, value in list_of_pairs:\n",
    "            key_index = self.key_location(key)\n",
    "            self.data[key_index] = (key, value)\n",
    "\n",
    "    def key_location(self, key):\n",
    "        # get the hash index\n",
    "        key_index = myhash(key) % len(self.data)\n",
    "\n",
    "        while True:\n",
    "            current_item = self.data[key_index]\n",
    "\n",
    "            # check to see what's in self.data\n",
    "            # (1) if it's None, then return that index\n",
    "            if current_item is None:\n",
    "                return key_index\n",
    "\n",
    "            # (2) if it contains a tuple, and the key == ours, return index\n",
    "            current_key, current_value = current_item\n",
    "    \n",
    "            if current_key == key:\n",
    "                return key_index\n",
    "\n",
    "            # (3) if it contains a tuple, and the key ≠ ours, +1 and try again\n",
    "            key_index = (key_index + 1) % len(self.data)\n",
    "\n",
    "    def __repr__(self):\n",
    "        return str(f'HashTable: {self.data}')\n",
    "\n",
    "    def __getitem__(self, key):\n",
    "        key_index = self.key_location(key)\n",
    "        pair = self.data[key_index]\n",
    "        if pair is None:\n",
    "            raise KeyError(f'{key} is not in our dict')\n",
    "        else:\n",
    "            return self.data[key_index][1]\n",
    "\n",
    "    def __setitem__(self, key, value):\n",
    "        key_index = self.key_location(key)\n",
    "        self.data[key_index] = (key, value)\n",
    "\n",
    "ht = HashTable([('a', 10), ('b', 20), ('c', 30)])            "
   ]
  },
  {
   "cell_type": "code",
   "execution_count": 117,
   "id": "065098b1-01d6-414b-9317-2edd38bff11c",
   "metadata": {},
   "outputs": [
    {
     "data": {
      "text/plain": [
       "HashTable: [None, ('a', 10), ('b', 20), ('c', 30), None, None, None, None]"
      ]
     },
     "execution_count": 117,
     "metadata": {},
     "output_type": "execute_result"
    }
   ],
   "source": [
    "ht"
   ]
  },
  {
   "cell_type": "code",
   "execution_count": 118,
   "id": "6ca1888a-b805-41cc-9aa4-f0734bd65ce8",
   "metadata": {},
   "outputs": [],
   "source": [
    "ht['i'] = 999"
   ]
  },
  {
   "cell_type": "code",
   "execution_count": 119,
   "id": "8af16f69-35e7-47d7-aebc-370e13583e9b",
   "metadata": {},
   "outputs": [
    {
     "data": {
      "text/plain": [
       "HashTable: [None, ('a', 10), ('b', 20), ('c', 30), ('i', 999), None, None, None]"
      ]
     },
     "execution_count": 119,
     "metadata": {},
     "output_type": "execute_result"
    }
   ],
   "source": [
    "ht"
   ]
  },
  {
   "cell_type": "code",
   "execution_count": 120,
   "id": "9cac0af9-cf17-40bc-ba44-58340fa7ec36",
   "metadata": {},
   "outputs": [
    {
     "data": {
      "text/plain": [
       "HashTable: [None, ('a', 10), ('b', 20), ('c', 30), ('i', 999), None, None, ('o', 888)]"
      ]
     },
     "execution_count": 120,
     "metadata": {},
     "output_type": "execute_result"
    }
   ],
   "source": [
    "ht['o'] = 888\n",
    "ht"
   ]
  },
  {
   "cell_type": "code",
   "execution_count": 121,
   "id": "4fc8d3c0-dc50-4790-bd97-e6d2571074b7",
   "metadata": {},
   "outputs": [
    {
     "data": {
      "text/plain": [
       "HashTable: [None, ('a', 10), ('b', 20), ('c', 30), ('i', 999), ('l', 777), None, ('o', 888)]"
      ]
     },
     "execution_count": 121,
     "metadata": {},
     "output_type": "execute_result"
    }
   ],
   "source": [
    "ht['l'] = 777\n",
    "ht"
   ]
  },
  {
   "cell_type": "code",
   "execution_count": 122,
   "id": "1cf1e81c-d08d-42cc-b320-4c5f5082c254",
   "metadata": {},
   "outputs": [
    {
     "data": {
      "text/plain": [
       "HashTable: [None, ('a', 10), ('b', 20), ('c', 30), ('i', 999), ('l', 777), ('k', 777), ('o', 888)]"
      ]
     },
     "execution_count": 122,
     "metadata": {},
     "output_type": "execute_result"
    }
   ],
   "source": [
    "ht['k'] = 777\n",
    "ht"
   ]
  },
  {
   "cell_type": "code",
   "execution_count": 123,
   "id": "ff55de95-4ae7-422b-859c-6c509746006c",
   "metadata": {},
   "outputs": [
    {
     "data": {
      "text/plain": [
       "HashTable: [None, ('a', 222), ('b', 20), ('c', 30), ('i', 999), ('l', 777), ('k', 777), ('o', 888)]"
      ]
     },
     "execution_count": 123,
     "metadata": {},
     "output_type": "execute_result"
    }
   ],
   "source": [
    "ht['a'] = 222\n",
    "ht"
   ]
  },
  {
   "cell_type": "code",
   "execution_count": 124,
   "id": "17191d2c-43b1-4899-9de9-fb05e92c8c4a",
   "metadata": {},
   "outputs": [
    {
     "data": {
      "text/plain": [
       "222"
      ]
     },
     "execution_count": 124,
     "metadata": {},
     "output_type": "execute_result"
    }
   ],
   "source": [
    "ht['a']"
   ]
  },
  {
   "cell_type": "code",
   "execution_count": 125,
   "id": "c675974b-8b9d-49dd-ac50-57a22aca0452",
   "metadata": {},
   "outputs": [
    {
     "data": {
      "text/plain": [
       "20"
      ]
     },
     "execution_count": 125,
     "metadata": {},
     "output_type": "execute_result"
    }
   ],
   "source": [
    "ht['b']"
   ]
  },
  {
   "cell_type": "code",
   "execution_count": 126,
   "id": "828e6d71-266b-48b3-9e89-e2cf1b495227",
   "metadata": {},
   "outputs": [
    {
     "data": {
      "text/plain": [
       "999"
      ]
     },
     "execution_count": 126,
     "metadata": {},
     "output_type": "execute_result"
    }
   ],
   "source": [
    "ht['i']"
   ]
  },
  {
   "cell_type": "code",
   "execution_count": 127,
   "id": "c4f7af71-dc45-4a82-9def-1aca15cbe1c2",
   "metadata": {},
   "outputs": [
    {
     "ename": "KeyError",
     "evalue": "'x is not in our dict'",
     "output_type": "error",
     "traceback": [
      "\u001b[0;31m---------------------------------------------------------------------------\u001b[0m",
      "\u001b[0;31mKeyError\u001b[0m                                  Traceback (most recent call last)",
      "Cell \u001b[0;32mIn[127], line 1\u001b[0m\n\u001b[0;32m----> 1\u001b[0m \u001b[43mht\u001b[49m\u001b[43m[\u001b[49m\u001b[38;5;124;43m'\u001b[39;49m\u001b[38;5;124;43mx\u001b[39;49m\u001b[38;5;124;43m'\u001b[39;49m\u001b[43m]\u001b[49m\n",
      "Cell \u001b[0;32mIn[116], line 37\u001b[0m, in \u001b[0;36mHashTable.__getitem__\u001b[0;34m(self, key)\u001b[0m\n\u001b[1;32m     35\u001b[0m pair \u001b[38;5;241m=\u001b[39m \u001b[38;5;28mself\u001b[39m\u001b[38;5;241m.\u001b[39mdata[key_index]\n\u001b[1;32m     36\u001b[0m \u001b[38;5;28;01mif\u001b[39;00m pair \u001b[38;5;129;01mis\u001b[39;00m \u001b[38;5;28;01mNone\u001b[39;00m:\n\u001b[0;32m---> 37\u001b[0m     \u001b[38;5;28;01mraise\u001b[39;00m \u001b[38;5;167;01mKeyError\u001b[39;00m(\u001b[38;5;124mf\u001b[39m\u001b[38;5;124m'\u001b[39m\u001b[38;5;132;01m{\u001b[39;00mkey\u001b[38;5;132;01m}\u001b[39;00m\u001b[38;5;124m is not in our dict\u001b[39m\u001b[38;5;124m'\u001b[39m)\n\u001b[1;32m     38\u001b[0m \u001b[38;5;28;01melse\u001b[39;00m:\n\u001b[1;32m     39\u001b[0m     \u001b[38;5;28;01mreturn\u001b[39;00m \u001b[38;5;28mself\u001b[39m\u001b[38;5;241m.\u001b[39mdata[key_index][\u001b[38;5;241m1\u001b[39m]\n",
      "\u001b[0;31mKeyError\u001b[0m: 'x is not in our dict'"
     ]
    }
   ],
   "source": [
    "ht['x']"
   ]
  },
  {
   "cell_type": "markdown",
   "id": "f2eef9a9-1398-42f3-930f-18eef5e318d5",
   "metadata": {},
   "source": [
    "# When do we expand our dict?\n",
    "\n",
    "Python doubles the size of a dict when it becomes 2/3 full.\n",
    "\n"
   ]
  },
  {
   "cell_type": "code",
   "execution_count": 129,
   "id": "31e546d3-a61d-48f1-b147-d60a952ed1ee",
   "metadata": {},
   "outputs": [
    {
     "data": {
      "text/plain": [
       "0.625"
      ]
     },
     "execution_count": 129,
     "metadata": {},
     "output_type": "execute_result"
    }
   ],
   "source": [
    "5/8\n"
   ]
  },
  {
   "cell_type": "markdown",
   "id": "af3c2888-5cc4-4644-b015-639d7cec8c28",
   "metadata": {},
   "source": [
    "# Exercise: Expand the dict as needed\n",
    "\n",
    "1. If you add a new key-value pair, and the dict is 2/3 full, then\n",
    "2. Double its size (i.e., make a list twice as long)\n",
    "3. Go through each key-value pair, and add it to the new list\n",
    "4. Check that retrieval still works"
   ]
  },
  {
   "cell_type": "code",
   "execution_count": 152,
   "id": "c7900a9f-ef7e-4296-ac7a-96b2d6e8fd32",
   "metadata": {},
   "outputs": [],
   "source": [
    "class HashTable:\n",
    "    def __init__(self, list_of_pairs):\n",
    "        self.data = [None] * 8\n",
    "\n",
    "        for key, value in list_of_pairs:\n",
    "            self[key] = value\n",
    "\n",
    "    def key_location(self, key, data_to_use = None):\n",
    "        if data_to_use is None:\n",
    "            data_to_use = self.data\n",
    "\n",
    "        # get the hash index\n",
    "        key_index = myhash(key) % len(data_to_use)\n",
    "\n",
    "        while True:\n",
    "            current_item = data_to_use[key_index]\n",
    "\n",
    "            # check to see what's in self.data\n",
    "            # (1) if it's None, then return that index\n",
    "            if current_item is None:\n",
    "                return key_index\n",
    "\n",
    "            # (2) if it contains a tuple, and the key == ours, return index\n",
    "            current_key, current_value = current_item\n",
    "    \n",
    "            if current_key == key:\n",
    "                return key_index\n",
    "\n",
    "            # (3) if it contains a tuple, and the key ≠ ours, +1 and try again\n",
    "            key_index = (key_index + 1) % len(data_to_use)\n",
    "\n",
    "    def __repr__(self):\n",
    "        return str(f'HashTable: {self.data}')\n",
    "\n",
    "    def __getitem__(self, key):\n",
    "        key_index = self.key_location(key)\n",
    "        pair = self.data[key_index]\n",
    "        if pair is None:\n",
    "            raise KeyError(f'{key} is not in our dict')\n",
    "        else:\n",
    "            return self.data[key_index][1]\n",
    "\n",
    "    def __setitem__(self, key, value):\n",
    "        # if self.data is already 2/3 full, then let's double the size\n",
    "        if self.data.count(None) / len(self.data) < 0.35:\n",
    "            new_data = [None] * len(self.data) * 2  # new, 2x as big list\n",
    "\n",
    "            for old_item in self.data:\n",
    "                if isinstance(old_item, tuple):\n",
    "                    old_key, old_value = old_item\n",
    "                    new_index = self.key_location(old_key, new_data)\n",
    "                    new_data[new_index] = (old_key, old_value)\n",
    "\n",
    "            self.data = new_data\n",
    "\n",
    "        key_index = self.key_location(key)\n",
    "        self.data[key_index] = (key, value)\n",
    "\n",
    "ht = HashTable([('a', 10), ('b', 20), ('c', 30)])            "
   ]
  },
  {
   "cell_type": "code",
   "execution_count": 153,
   "id": "4fdead06-9777-40ba-a53f-da604dca415d",
   "metadata": {},
   "outputs": [
    {
     "data": {
      "text/plain": [
       "10"
      ]
     },
     "execution_count": 153,
     "metadata": {},
     "output_type": "execute_result"
    }
   ],
   "source": [
    "ht['a']"
   ]
  },
  {
   "cell_type": "code",
   "execution_count": 154,
   "id": "43d3315d-5a32-448d-b748-cc1d9862b59a",
   "metadata": {},
   "outputs": [
    {
     "ename": "KeyError",
     "evalue": "'d is not in our dict'",
     "output_type": "error",
     "traceback": [
      "\u001b[0;31m---------------------------------------------------------------------------\u001b[0m",
      "\u001b[0;31mKeyError\u001b[0m                                  Traceback (most recent call last)",
      "Cell \u001b[0;32mIn[154], line 1\u001b[0m\n\u001b[0;32m----> 1\u001b[0m \u001b[43mht\u001b[49m\u001b[43m[\u001b[49m\u001b[38;5;124;43m'\u001b[39;49m\u001b[38;5;124;43md\u001b[39;49m\u001b[38;5;124;43m'\u001b[39;49m\u001b[43m]\u001b[49m\n",
      "Cell \u001b[0;32mIn[152], line 39\u001b[0m, in \u001b[0;36mHashTable.__getitem__\u001b[0;34m(self, key)\u001b[0m\n\u001b[1;32m     37\u001b[0m pair \u001b[38;5;241m=\u001b[39m \u001b[38;5;28mself\u001b[39m\u001b[38;5;241m.\u001b[39mdata[key_index]\n\u001b[1;32m     38\u001b[0m \u001b[38;5;28;01mif\u001b[39;00m pair \u001b[38;5;129;01mis\u001b[39;00m \u001b[38;5;28;01mNone\u001b[39;00m:\n\u001b[0;32m---> 39\u001b[0m     \u001b[38;5;28;01mraise\u001b[39;00m \u001b[38;5;167;01mKeyError\u001b[39;00m(\u001b[38;5;124mf\u001b[39m\u001b[38;5;124m'\u001b[39m\u001b[38;5;132;01m{\u001b[39;00mkey\u001b[38;5;132;01m}\u001b[39;00m\u001b[38;5;124m is not in our dict\u001b[39m\u001b[38;5;124m'\u001b[39m)\n\u001b[1;32m     40\u001b[0m \u001b[38;5;28;01melse\u001b[39;00m:\n\u001b[1;32m     41\u001b[0m     \u001b[38;5;28;01mreturn\u001b[39;00m \u001b[38;5;28mself\u001b[39m\u001b[38;5;241m.\u001b[39mdata[key_index][\u001b[38;5;241m1\u001b[39m]\n",
      "\u001b[0;31mKeyError\u001b[0m: 'd is not in our dict'"
     ]
    }
   ],
   "source": [
    "ht['d']"
   ]
  },
  {
   "cell_type": "code",
   "execution_count": 155,
   "id": "2712f06d-d405-426f-957d-4fc986ede1ff",
   "metadata": {},
   "outputs": [],
   "source": [
    "ht['abc'] = 10\n",
    "ht['def'] = 20\n",
    "ht['ghi'] = 30\n",
    "ht['jkl'] = 40\n",
    "ht['mno'] = 50\n",
    "ht['pqr'] = 60\n",
    "ht['stu'] = 780"
   ]
  },
  {
   "cell_type": "code",
   "execution_count": 156,
   "id": "aa0d4586-4603-4c9c-b89c-eb0619767a59",
   "metadata": {},
   "outputs": [
    {
     "data": {
      "text/plain": [
       "HashTable: [('def', 20), ('a', 10), ('b', 20), ('c', 30), ('ghi', 30), ('jkl', 40), ('mno', 50), None, ('pqr', 60), None, ('stu', 780), None, None, None, ('abc', 10), None]"
      ]
     },
     "execution_count": 156,
     "metadata": {},
     "output_type": "execute_result"
    }
   ],
   "source": [
    "ht"
   ]
  },
  {
   "cell_type": "code",
   "execution_count": 157,
   "id": "47f27ab7-4a8e-4cac-a133-1a2285828016",
   "metadata": {},
   "outputs": [
    {
     "data": {
      "text/plain": [
       "16"
      ]
     },
     "execution_count": 157,
     "metadata": {},
     "output_type": "execute_result"
    }
   ],
   "source": [
    "len(ht.data)"
   ]
  },
  {
   "cell_type": "code",
   "execution_count": 158,
   "id": "314229df-5c9c-4862-b8cc-dc14e68f1e92",
   "metadata": {},
   "outputs": [],
   "source": [
    "ht['abca'] = 10\n",
    "ht['defb'] = 20\n",
    "ht['ghic'] = 30\n",
    "ht['jkld'] = 40\n",
    "ht['mnoe'] = 50\n",
    "ht['pqrf'] = 60\n",
    "ht['stug'] = 780"
   ]
  },
  {
   "cell_type": "code",
   "execution_count": 159,
   "id": "bb3dd288-1ad8-4a84-b86b-96fbea8140d3",
   "metadata": {},
   "outputs": [
    {
     "data": {
      "text/plain": [
       "32"
      ]
     },
     "execution_count": 159,
     "metadata": {},
     "output_type": "execute_result"
    }
   ],
   "source": [
    "len(ht.data)"
   ]
  },
  {
   "cell_type": "code",
   "execution_count": 160,
   "id": "b4812694-1769-4f42-a063-f40749c1bff8",
   "metadata": {},
   "outputs": [
    {
     "data": {
      "text/plain": [
       "[('def', 20),\n",
       " ('a', 10),\n",
       " ('b', 20),\n",
       " ('c', 30),\n",
       " ('jkl', 40),\n",
       " ('pqrf', 60),\n",
       " None,\n",
       " None,\n",
       " ('pqr', 60),\n",
       " ('defb', 20),\n",
       " ('mnoe', 50),\n",
       " None,\n",
       " None,\n",
       " None,\n",
       " ('abc', 10),\n",
       " None,\n",
       " None,\n",
       " None,\n",
       " ('ghi', 30),\n",
       " ('abca', 10),\n",
       " ('jkld', 40),\n",
       " None,\n",
       " ('mno', 50),\n",
       " ('stug', 780),\n",
       " None,\n",
       " None,\n",
       " ('stu', 780),\n",
       " None,\n",
       " None,\n",
       " None,\n",
       " ('ghic', 30),\n",
       " None]"
      ]
     },
     "execution_count": 160,
     "metadata": {},
     "output_type": "execute_result"
    }
   ],
   "source": [
    "ht.data"
   ]
  },
  {
   "cell_type": "code",
   "execution_count": 163,
   "id": "701c1330-0dcf-4632-b320-320e3c0a3c5a",
   "metadata": {},
   "outputs": [
    {
     "data": {
      "text/plain": [
       "HashTable: [None, None, None, None, None, None, None, None, None, None, None, None, None, None, None, None, None, None, None, None, None, None, None, None, None, None, None, None, None, None, None, None, None, ('a', 97), ('b', 98), ('c', 99), ('d', 100), ('e', 101), ('f', 102), ('g', 103), ('h', 104), ('i', 105), ('j', 106), ('k', 107), ('l', 108), ('m', 109), ('n', 110), ('o', 111), ('p', 112), ('q', 113), ('r', 114), ('s', 115), ('t', 116), ('u', 117), ('v', 118), None, ('x', 120), ('y', 121), ('z', 122), None, None, None, None, None]"
      ]
     },
     "execution_count": 163,
     "metadata": {},
     "output_type": "execute_result"
    }
   ],
   "source": [
    "HashTable([(key, ord(key))\n",
    "           for key in 'abcdefghijklmnopqrstuvxyz'])"
   ]
  },
  {
   "cell_type": "markdown",
   "id": "51c0cd2d-b904-4a0a-882d-a1c5946f42f3",
   "metadata": {},
   "source": [
    "# Collisions aren't usually handled this way\n",
    "\n",
    "Some languages and implementations simply use a list, and allow us to put as many key-value pairs as we need in a list at that location. Python doesn't; we look for a new location when the existing one is occupied.\n",
    "\n",
    "How do we search for a new one? Currently, we're just going to the neighbor, until we find an empty space.\n",
    "\n",
    "The problem is that you can end up with data that clusters together, and then you have a lot of data in one place in your dict, and not a lot elsewhere.\n",
    "\n",
    "We can use quadratic probing -- jump in increasing increments each time a location is occupied. Don't just `+=1` to the location, until you find a `None`. Rather, multiply by 1.5, that pretty much guarantees that your data is spread out in your list."
   ]
  },
  {
   "cell_type": "markdown",
   "id": "4c8676b1-7107-4688-9c3f-8cb4a4d92ed1",
   "metadata": {},
   "source": [
    "# Exercise: Checking if a key exists\n",
    "\n",
    "We know that we can use `in` to check whether a key is in our dict, returning `True` or `False`. This is done with the `__contains__` magic method. This gets one argument (beyond `self`).\n",
    "\n",
    "Implement this, so that we can find out if a key is in our dict.\n",
    "\n"
   ]
  },
  {
   "cell_type": "code",
   "execution_count": 173,
   "id": "b1b4b5fa-9f42-4aa6-a845-f31cf76a2423",
   "metadata": {},
   "outputs": [],
   "source": [
    "class HashTable:\n",
    "    def __init__(self, list_of_pairs):\n",
    "        self.data = [None] * 8\n",
    "\n",
    "        for key, value in list_of_pairs:\n",
    "            self[key] = value\n",
    "\n",
    "    def key_location(self, key, data_to_use = None):\n",
    "        if data_to_use is None:\n",
    "            data_to_use = self.data\n",
    "\n",
    "        # get the hash index\n",
    "        key_index = myhash(key) % len(data_to_use)\n",
    "\n",
    "        while True:\n",
    "            current_item = data_to_use[key_index]\n",
    "\n",
    "            # check to see what's in self.data\n",
    "            # (1) if it's None, then return that index\n",
    "            if current_item is None:\n",
    "                return key_index\n",
    "\n",
    "            # (2) if it contains a tuple, and the key == ours, return index\n",
    "            current_key, current_value = current_item\n",
    "    \n",
    "            if current_key == key:\n",
    "                return key_index\n",
    "\n",
    "            # (3) if it contains a tuple, and the key ≠ ours, +1 and try again\n",
    "            key_index = (key_index + 1) % len(data_to_use)\n",
    "\n",
    "    def __repr__(self):\n",
    "        return str(f'HashTable: {self.data}')\n",
    "\n",
    "    def __getitem__(self, key):\n",
    "        key_index = self.key_location(key)\n",
    "        pair = self.data[key_index]\n",
    "        if pair is None:\n",
    "            raise KeyError(f'{key} is not in our dict')\n",
    "        else:\n",
    "            return self.data[key_index][1]\n",
    "\n",
    "    def __setitem__(self, key, value):\n",
    "        # if self.data is already 2/3 full, then let's double the size\n",
    "        if self.data.count(None) / len(self.data) < 0.35:\n",
    "            new_data = [None] * len(self.data) * 2  # new, 2x as big list\n",
    "\n",
    "            for old_item in self.data:\n",
    "                if isinstance(old_item, tuple):\n",
    "                    old_key, old_value = old_item\n",
    "                    new_index = self.key_location(old_key, new_data)\n",
    "                    new_data[new_index] = (old_key, old_value)\n",
    "\n",
    "            self.data = new_data\n",
    "\n",
    "        key_index = self.key_location(key)\n",
    "        self.data[key_index] = (key, value)\n",
    "    def __contains__(self, key):\n",
    "        try:\n",
    "            return self[key]:\n",
    "                return True\n",
    "        key_location = self.key_location(key)\n",
    "        current_item = self.data[key_location]\n",
    "\n",
    "        if current_item is None:\n",
    "            return False\n",
    "        return True\n",
    "\n",
    "ht = HashTable([('a', 10), ('b', 20), ('c', 30)])            "
   ]
  },
  {
   "cell_type": "code",
   "execution_count": 174,
   "id": "39aab265-9ff9-40cd-b7c9-e89b00d3feb0",
   "metadata": {},
   "outputs": [
    {
     "data": {
      "text/plain": [
       "True"
      ]
     },
     "execution_count": 174,
     "metadata": {},
     "output_type": "execute_result"
    }
   ],
   "source": [
    "'a' in ht"
   ]
  },
  {
   "cell_type": "code",
   "execution_count": 175,
   "id": "896de41f-2f71-4b58-bb15-b2d804048da9",
   "metadata": {},
   "outputs": [
    {
     "data": {
      "text/plain": [
       "False"
      ]
     },
     "execution_count": 175,
     "metadata": {},
     "output_type": "execute_result"
    }
   ],
   "source": [
    "'x' in ht"
   ]
  },
  {
   "cell_type": "code",
   "execution_count": 176,
   "id": "3724a459-ac98-49f7-af38-3d23f3ba87a6",
   "metadata": {},
   "outputs": [
    {
     "data": {
      "text/plain": [
       "True"
      ]
     },
     "execution_count": 176,
     "metadata": {},
     "output_type": "execute_result"
    }
   ],
   "source": [
    "'b' in ht"
   ]
  },
  {
   "cell_type": "code",
   "execution_count": 177,
   "id": "97aa5002-2513-4d81-a290-af88abb0f783",
   "metadata": {},
   "outputs": [
    {
     "data": {
      "text/plain": [
       "[None, ('a', 10), ('b', 20), ('c', 30), None, None, None, None]"
      ]
     },
     "execution_count": 177,
     "metadata": {},
     "output_type": "execute_result"
    }
   ],
   "source": [
    "ht.data"
   ]
  },
  {
   "cell_type": "code",
   "execution_count": 178,
   "id": "d99b283f-e53e-4373-a95d-5952ea54ff5f",
   "metadata": {},
   "outputs": [
    {
     "data": {
      "text/plain": [
       "False"
      ]
     },
     "execution_count": 178,
     "metadata": {},
     "output_type": "execute_result"
    }
   ],
   "source": [
    "'d' in ht"
   ]
  },
  {
   "cell_type": "code",
   "execution_count": null,
   "id": "367dab25-5d72-4bf7-b0fa-44321595c903",
   "metadata": {},
   "outputs": [],
   "source": []
  }
 ],
 "metadata": {
  "kernelspec": {
   "display_name": "Python 3 (ipykernel)",
   "language": "python",
   "name": "python3"
  },
  "language_info": {
   "codemirror_mode": {
    "name": "ipython",
    "version": 3
   },
   "file_extension": ".py",
   "mimetype": "text/x-python",
   "name": "python",
   "nbconvert_exporter": "python",
   "pygments_lexer": "ipython3",
   "version": "3.13.1"
  },
  "widgets": {
   "application/vnd.jupyter.widget-state+json": {
    "state": {},
    "version_major": 2,
    "version_minor": 0
   }
  }
 },
 "nbformat": 4,
 "nbformat_minor": 5
}
